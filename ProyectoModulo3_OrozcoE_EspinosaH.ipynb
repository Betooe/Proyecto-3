{
 "cells": [
  {
   "cell_type": "markdown",
   "metadata": {},
   "source": [
    "## Modelos de Ahorro/Inversión Mediante Fondos de Inversión"
   ]
  },
  {
   "cell_type": "markdown",
   "metadata": {},
   "source": [
    "Un inversionista tiene cierta cantidad de dinero y quiere hacer uso de él invirtiendolo en algún fondo de inversión. Este inversionista, decida ir con un grupo financiero a que le ofrezcan 3 diferentes planes, con ventajas y desventajas cada uno, en los cuales, el puede invertir. \n",
    "\n",
    "Problema:\n",
    "\n",
    "Sacar mediante el algoritmo de interés compuesto, el rendimiento\n",
    "\n",
    "#### Objetivo General:\n",
    "\n",
    "Se pretende mostrar la mejor opción de inversión mediante la formulación de diversos supuestos ofrecidos por fondos de inversión. \n",
    "\n",
    "#### Objetivos especificos:\n",
    "\n",
    "-Ejecutar de manera eficiente el programa\n",
    "-Elejir la opción más viable para el inversor\n",
    "-Desarrollar un problema con sentido\n"
   ]
  },
  {
   "cell_type": "markdown",
   "metadata": {},
   "source": [
    "**Escenario A**\n",
    "\n",
    "El Fondo de ahorro le pide 1M para invertir en CETES con tasa de interés del 7% anual.\n",
    "Cuando el inversor obtenga el doble de su inversión se le regresara su capital inicial y el resto seguirá en el fondo. La liquidez de este escenario es semanal. A parte, es de capitalización continua compuesta. ¿En cuanto tiempo logrará llegar a los dos millones?\n",
    "\n",
    "\n",
    "**Escenario B**\n",
    "\n",
    "Le piden una cantidad de 500 K para invertirlo en determinados contratos con Riesgo BBB con un retorno de inversión del 15%, donde su liquidez es mensualmente pero se requiere también tener el dinero. El inversor planea hacer una inversión no mayor a 15 años.\n",
    "\n",
    "**Escenario C**\n",
    "\n",
    "En este el fondo de inversión es más riesgoso pero el retorno es mayor además la liquidez es cada semestre, se pide un mínimo de 200K con un retorno de inversión del 35%, la inversión se hará en empresas calificadas B o C`s pero son empresas nuevas. Aquí el inversor espera llegar al menos al millon de pesos.\n",
    "\n"
   ]
  },
  {
   "cell_type": "code",
   "execution_count": 16,
   "metadata": {},
   "outputs": [],
   "source": [
    "import numpy as np\n",
    "import pandas as pd\n",
    "from ipywidgets import *\n",
    "import matplotlib.pyplot as plt\n",
    "import sympy as sym\n",
    "from scipy.integrate import solve_ivp"
   ]
  },
  {
   "cell_type": "markdown",
   "metadata": {},
   "source": [
    "Ecuación diferencial:\n",
    "\n",
    "$$\\frac{d C(t)}{dt}=r\\; C(t),$$\n",
    "\n",
    "$$C(t) = C_0e^{rt}$$\n",
    "    "
   ]
  },
  {
   "cell_type": "markdown",
   "metadata": {},
   "source": [
    "**El fenomeno que involucramos es el de capitalización compuesta que consta de la reinversión de las ganancias dadas.**"
   ]
  },
  {
   "cell_type": "code",
   "execution_count": 19,
   "metadata": {},
   "outputs": [
    {
     "data": {
      "application/vnd.jupyter.widget-view+json": {
       "model_id": "3d03dea537d64b91884f2a1b2fe41956",
       "version_major": 2,
       "version_minor": 0
      },
      "text/plain": [
       "interactive(children=(IntSlider(value=2250000, description='meta', max=2500000, min=2000000, step=10000), Butt…"
      ]
     },
     "metadata": {},
     "output_type": "display_data"
    },
    {
     "data": {
      "text/plain": [
       "<function __main__.Ccontinua(C0, r, meta)>"
      ]
     },
     "execution_count": 19,
     "metadata": {},
     "output_type": "execute_result"
    }
   ],
   "source": [
    "#Escenario A\n",
    "def Ccontinua(C0,r,meta):\n",
    "    t=np.log(meta/C0)/r\n",
    "    def dC(t,C):\n",
    "        return r*C\n",
    "    sol=solve_ivp(dC,(0,t),[C0],max_step=0.01)\n",
    "    \n",
    "    plt.plot(sol.t,sol.y[0,:])\n",
    "    plt.plot([0,t],[meta,meta],'--k')\n",
    "    plt.xlabel('años')\n",
    "    plt.grid()\n",
    "\n",
    "i=0.07\n",
    "interact_manual(Ccontinua,C0=fixed(1000000),r=fixed(np.log(1+i)),meta=(2000000,2500000,10000))"
   ]
  },
  {
   "cell_type": "code",
   "execution_count": 20,
   "metadata": {},
   "outputs": [
    {
     "data": {
      "image/png": "[encoded data removed]",
      "text/plain": [
       "<Figure size 360x360 with 1 Axes>"
      ]
     },
     "metadata": {
      "needs_background": "light"
     },
     "output_type": "display_data"
    }
   ],
   "source": [
    "#Escenario B\n",
    "def interes_compuesto(t,i,C0):\n",
    "    periodos=np.linspace(0,t,t+1)\n",
    "    Ck=C0*(1+i)**periodos\n",
    "    plt.figure(figsize=(5,5))\n",
    "    plt.plot(periodos,Ck,'o',ms=5)\n",
    "    #plt.plot([0,t],[meta,meta],'--t')\n",
    "    plt.grid()\n",
    "interes_compuesto(14,.15,500000)"
   ]
  },
  {
   "cell_type": "code",
   "execution_count": 22,
   "metadata": {},
   "outputs": [
    {
     "data": {
      "application/vnd.jupyter.widget-view+json": {
       "model_id": "ca841be990c34bffaa831c8be524248a",
       "version_major": 2,
       "version_minor": 0
      },
      "text/plain": [
       "interactive(children=(IntSlider(value=1250000, description='meta', max=1500000, min=1000000, step=10000), Butt…"
      ]
     },
     "metadata": {},
     "output_type": "display_data"
    },
    {
     "data": {
      "text/plain": [
       "<function __main__.interes_compuesto(meta, i, C0)>"
      ]
     },
     "execution_count": 22,
     "metadata": {},
     "output_type": "execute_result"
    }
   ],
   "source": [
    "#Escenario C\n",
    "def interes_compuesto(meta,i,C0):\n",
    "    k=np.ceil(np.log(meta/C0)/np.log(1+i)).astype(int)\n",
    "    periodos=np.linspace(0,k,k+1)\n",
    "    Ck=C0*(1+i)**periodos\n",
    "    plt.figure(figsize=(5,5))\n",
    "    plt.plot(periodos,Ck,'o',ms=5)\n",
    "    plt.plot([0,k],[meta,meta],'--k')\n",
    "    plt.grid()\n",
    "interact_manual(interes_compuesto,meta=(1000000,1500000,10000),i=fixed(0.35),C0=fixed(200000))"
   ]
  },
  {
   "cell_type": "markdown",
   "metadata": {},
   "source": [
    "### Conclusiones:\n",
    "\n",
    "El algoritmo nos conduce a una solución factible y nos simplificó la toma de decisión en base a las opciones orfecidas. ¿Por qué? Considerando las diversas variables que el fondo nos ofrecia para cada plan, la mejor opción fue el escenario B. Debido a su riesgo asumible y su posible rendimiento en un lapso de tiempo similar al de las otras opciones, lo ideal sería irnos por esa opción que a 14 años ofrece un rendimiento de un poco más de 3.5 millones."
   ]
  },
  {
   "cell_type": "code",
   "execution_count": null,
   "metadata": {},
   "outputs": [],
   "source": []
  }
 ],
 "metadata": {
  "kernelspec": {
   "display_name": "Python 3",
   "language": "python",
   "name": "python3"
  },
  "language_info": {
   "codemirror_mode": {
    "name": "ipython",
    "version": 3
   },
   "file_extension": ".py",
   "mimetype": "text/x-python",
   "name": "python",
   "nbconvert_exporter": "python",
   "pygments_lexer": "ipython3",
   "version": "3.8.3"
  }
 },
 "nbformat": 4,
 "nbformat_minor": 4
}
